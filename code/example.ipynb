{
 "cells": [
  {
   "cell_type": "code",
   "execution_count": 121,
   "metadata": {},
   "outputs": [
    {
     "name": "stdout",
     "output_type": "stream",
     "text": [
      "['麩', '菓子', 'は', '麩', 'を', '主材', '料', 'と', 'し', 'た', '日本', 'の', '菓子', '麩', '菓子', '麩', '菓子', '麩', '菓子', '麩', '菓子']\n"
     ]
    }
   ],
   "source": [
    "list = ['麩', '菓子', 'は', '麩', 'を', '主材', '料', 'と', 'し', 'た', '日本', 'の', '菓子', '麩', '菓子', '麩', '菓子', '麩', '菓子', '麩', '菓子']\n",
    "print (list)"
   ]
  },
  {
   "cell_type": "code",
   "execution_count": 122,
   "metadata": {},
   "outputs": [],
   "source": [
    "def add_words(spr_list, word):\n",
    "    r_list = []\n",
    "    for i in range(len(spr_list)-1):\n",
    "        if spr_list[i]+spr_list[i+1] == word:\n",
    "            spr_list[i] = word\n",
    "            r_list.append(i+1)\n",
    "    count = 0\n",
    "    for k in r_list:\n",
    "        #print (k)\n",
    "        spr_list.pop(k-count)\n",
    "        count += 1\n",
    "    return spr_list\n",
    "\n"
   ]
  },
  {
   "cell_type": "code",
   "execution_count": 135,
   "metadata": {},
   "outputs": [],
   "source": [
    "word_list = ['麩菓子','主材料','とし','日本の',]\n",
    "word_list2 = ['とした','日本の菓子','麩を']\n",
    "list_f = list.copy()\n",
    "for j in word_list:\n",
    "    list_f = add_words(list_f, j)\n",
    "list_f2 = list_f.copy()\n",
    "for l in word_list2:\n",
    "    list_f2 = add_words(list_f2, l)\n",
    "    "
   ]
  },
  {
   "cell_type": "code",
   "execution_count": 136,
   "metadata": {},
   "outputs": [
    {
     "name": "stdout",
     "output_type": "stream",
     "text": [
      "Original list: \n",
      " ['麩', '菓子', 'は', '麩', 'を', '主材', '料', 'と', 'し', 'た', '日本', 'の', '菓子', '麩', '菓子', '麩', '菓子', '麩', '菓子', '麩', '菓子']\n",
      "\n",
      "After 1st : \n",
      " ['麩菓子', 'は', '麩', 'を', '主材料', 'とし', 'た', '日本の', '菓子', '麩菓子', '麩菓子', '麩菓子', '麩菓子']\n",
      "\n",
      "After 2nd : \n",
      " ['麩菓子', 'は', '麩を', '主材料', 'とした', '日本の菓子', '麩菓子', '麩菓子', '麩菓子', '麩菓子']\n"
     ]
    }
   ],
   "source": [
    "print ('Original list:','\\n',list)\n",
    "print ('\\nAfter 1st :','\\n',list_f)\n",
    "print ('\\nAfter 2nd :','\\n',list_f2)\n",
    "\n",
    "\n"
   ]
  },
  {
   "cell_type": "code",
   "execution_count": null,
   "metadata": {},
   "outputs": [],
   "source": []
  }
 ],
 "metadata": {
  "kernelspec": {
   "display_name": "Python 3",
   "language": "python",
   "name": "python3"
  },
  "language_info": {
   "codemirror_mode": {
    "name": "ipython",
    "version": 3
   },
   "file_extension": ".py",
   "mimetype": "text/x-python",
   "name": "python",
   "nbconvert_exporter": "python",
   "pygments_lexer": "ipython3",
   "version": "3.7.7"
  }
 },
 "nbformat": 4,
 "nbformat_minor": 4
}
